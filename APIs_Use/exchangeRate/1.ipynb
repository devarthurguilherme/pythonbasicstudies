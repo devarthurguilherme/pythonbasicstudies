{
 "cells": [
  {
   "cell_type": "code",
   "execution_count": 2,
   "metadata": {},
   "outputs": [],
   "source": [
    "import requests\n",
    "import json"
   ]
  },
  {
   "cell_type": "code",
   "execution_count": 10,
   "metadata": {},
   "outputs": [
    {
     "name": "stdout",
     "output_type": "stream",
     "text": [
      "{'USDBRL': {'code': 'USD', 'codein': 'BRL', 'name': 'Dólar Americano/Real Brasileiro', 'high': '5.3661', 'low': '5.3601', 'varBid': '-0.0003', 'pctChange': '-0.01', 'bid': '5.3628', 'ask': '5.3638', 'timestamp': '1718314199', 'create_date': '2024-06-13 18:29:59'}, 'EURBRL': {'code': 'EUR', 'codein': 'BRL', 'name': 'Euro/Real Brasileiro', 'high': '5.8313', 'low': '5.7661', 'varBid': '0.0652', 'pctChange': '1.13', 'bid': '5.8063', 'ask': '5.8563', 'timestamp': '1718337092', 'create_date': '2024-06-14 00:51:32'}, 'BTCBRL': {'code': 'BTC', 'codein': 'BRL', 'name': 'Bitcoin/Real Brasileiro', 'high': '371008', 'low': '358800', 'varBid': '-6198', 'pctChange': '-1.69', 'bid': '360500', 'ask': '360945', 'timestamp': '1718337077', 'create_date': '2024-06-14 00:51:17'}}\n",
      "{'code': 'USD', 'codein': 'BRL', 'name': 'Dólar Americano/Real Brasileiro', 'high': '5.3661', 'low': '5.3601', 'varBid': '-0.0003', 'pctChange': '-0.01', 'bid': '5.3628', 'ask': '5.3638', 'timestamp': '1718314199', 'create_date': '2024-06-13 18:29:59'}\n"
     ]
    }
   ],
   "source": [
    "exchangeRate = requests.get(\"https://economia.awesomeapi.com.br/last/USD-BRL,EUR-BRL,BTC-BRL\")\n",
    "exchangeRate = exchangeRate.json()\n",
    "exchangeRateDolar = exchangeRate[\"USDBRL\"]\n",
    "print(exchangeRate)\n",
    "print(exchangeRate)"
   ]
  },
  {
   "cell_type": "code",
   "execution_count": null,
   "metadata": {},
   "outputs": [],
   "source": []
  }
 ],
 "metadata": {
  "kernelspec": {
   "display_name": "Python 3",
   "language": "python",
   "name": "python3"
  },
  "language_info": {
   "codemirror_mode": {
    "name": "ipython",
    "version": 3
   },
   "file_extension": ".py",
   "mimetype": "text/x-python",
   "name": "python",
   "nbconvert_exporter": "python",
   "pygments_lexer": "ipython3",
   "version": "3.11.5"
  }
 },
 "nbformat": 4,
 "nbformat_minor": 2
}
